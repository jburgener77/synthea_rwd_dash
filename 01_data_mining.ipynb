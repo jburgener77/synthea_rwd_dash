{
 "cells": [
  {
   "cell_type": "markdown",
   "metadata": {},
   "source": [
    "# Synthea Data Mining"
   ]
  },
  {
   "cell_type": "markdown",
   "metadata": {},
   "source": [
    "The Synthea Health tool was used to generate a total of 11,638 electronic health care records:"
   ]
  },
  {
   "cell_type": "markdown",
   "metadata": {},
   "source": [
    "```bash\n",
    "sh synthea_setup.sh\n",
    "```"
   ]
  },
  {
   "cell_type": "markdown",
   "metadata": {},
   "source": [
    "Health records in FIHR format: https://en.wikipedia.org/wiki/Fast_Healthcare_Interoperability_Resources are provided as JSON files in the output folder"
   ]
  },
  {
   "cell_type": "markdown",
   "metadata": {},
   "source": [
    "# Setup"
   ]
  },
  {
   "cell_type": "markdown",
   "metadata": {},
   "source": [
    "## Libraries"
   ]
  },
  {
   "cell_type": "code",
   "execution_count": 3,
   "metadata": {},
   "outputs": [
    {
     "name": "stdout",
     "output_type": "stream",
     "text": [
      "Collecting pandas\n",
      "  Downloading pandas-2.0.3-cp38-cp38-manylinux_2_17_x86_64.manylinux2014_x86_64.whl.metadata (18 kB)\n",
      "Requirement already satisfied: python-dateutil>=2.8.2 in /home/jburgene/.local/lib/python3.8/site-packages (from pandas) (2.8.2)\n",
      "Collecting pytz>=2020.1 (from pandas)\n",
      "  Downloading pytz-2023.3.post1-py2.py3-none-any.whl.metadata (22 kB)\n",
      "Collecting tzdata>=2022.1 (from pandas)\n",
      "  Downloading tzdata-2023.3-py2.py3-none-any.whl (341 kB)\n",
      "\u001b[2K     \u001b[90m━━━━━━━━━━━━━━━━━━━━━━━━━━━━━━━━━━━━━━━\u001b[0m \u001b[32m341.8/341.8 kB\u001b[0m \u001b[31m6.5 MB/s\u001b[0m eta \u001b[36m0:00:00\u001b[0ma \u001b[36m0:00:01\u001b[0m\n",
      "\u001b[?25hCollecting numpy>=1.20.3 (from pandas)\n",
      "  Downloading numpy-1.24.4-cp38-cp38-manylinux_2_17_x86_64.manylinux2014_x86_64.whl.metadata (5.6 kB)\n",
      "Requirement already satisfied: six>=1.5 in /home/jburgene/miniconda3/lib/python3.8/site-packages (from python-dateutil>=2.8.2->pandas) (1.16.0)\n",
      "Downloading pandas-2.0.3-cp38-cp38-manylinux_2_17_x86_64.manylinux2014_x86_64.whl (12.4 MB)\n",
      "\u001b[2K   \u001b[90m━━━━━━━━━━━━━━━━━━━━━━━━━━━━━━━━━━━━━━━━\u001b[0m \u001b[32m12.4/12.4 MB\u001b[0m \u001b[31m29.4 MB/s\u001b[0m eta \u001b[36m0:00:00\u001b[0m00:01\u001b[0m00:01\u001b[0m\n",
      "\u001b[?25hDownloading numpy-1.24.4-cp38-cp38-manylinux_2_17_x86_64.manylinux2014_x86_64.whl (17.3 MB)\n",
      "\u001b[2K   \u001b[90m━━━━━━━━━━━━━━━━━━━━━━━━━━━━━━━━━━━━━━━━\u001b[0m \u001b[32m17.3/17.3 MB\u001b[0m \u001b[31m30.2 MB/s\u001b[0m eta \u001b[36m0:00:00\u001b[0m00:01\u001b[0m00:01\u001b[0m\n",
      "\u001b[?25hDownloading pytz-2023.3.post1-py2.py3-none-any.whl (502 kB)\n",
      "\u001b[2K   \u001b[90m━━━━━━━━━━━━━━━━━━━━━━━━━━━━━━━━━━━━━━━━\u001b[0m \u001b[32m502.5/502.5 kB\u001b[0m \u001b[31m29.0 MB/s\u001b[0m eta \u001b[36m0:00:00\u001b[0m\n",
      "\u001b[?25hInstalling collected packages: pytz, tzdata, numpy, pandas\n",
      "Successfully installed numpy-1.24.4 pandas-2.0.3 pytz-2023.3.post1 tzdata-2023.3\n",
      "Requirement already satisfied: numpy in /home/jburgene/miniconda3/lib/python3.8/site-packages (1.24.4)\n"
     ]
    }
   ],
   "source": [
    "#!pip install fhir.resources\n",
    "!pip install pandas\n",
    "!pip install numpy"
   ]
  },
  {
   "cell_type": "code",
   "execution_count": 109,
   "metadata": {},
   "outputs": [],
   "source": [
    "import pandas as pd \n",
    "import numpy as np\n",
    "import datetime\n",
    "\n",
    "from fhir.resources.R4B.bundle import Bundle\n",
    "from fhir.resources.R4B.patient import Patient\n",
    "from fhir.resources.R4B.condition import Condition\n",
    "from fhir.resources.R4B.observation import Observation\n",
    "from fhir.resources.R4B.medicationrequest import MedicationRequest\n",
    "from fhir.resources.R4B.procedure import Procedure\n",
    "from fhir.resources.R4B.encounter import Encounter\n",
    "from fhir.resources.R4B.claim import Claim\n",
    "from fhir.resources.R4B.immunization import Immunization\n",
    "from fhir.resources.R4B.humanname import HumanName"
   ]
  },
  {
   "cell_type": "markdown",
   "metadata": {},
   "source": [
    "## Functions"
   ]
  },
  {
   "cell_type": "markdown",
   "metadata": {},
   "source": [
    "### FIHR Import"
   ]
  },
  {
   "cell_type": "code",
   "execution_count": 136,
   "metadata": {},
   "outputs": [
    {
     "data": {
      "text/plain": [
       "{fhir.resources.R4B.allergyintolerance.AllergyIntolerance,\n",
       " fhir.resources.R4B.careplan.CarePlan,\n",
       " fhir.resources.R4B.careteam.CareTeam,\n",
       " fhir.resources.R4B.claim.Claim,\n",
       " fhir.resources.R4B.condition.Condition,\n",
       " fhir.resources.R4B.diagnosticreport.DiagnosticReport,\n",
       " fhir.resources.R4B.documentreference.DocumentReference,\n",
       " fhir.resources.R4B.encounter.Encounter,\n",
       " fhir.resources.R4B.explanationofbenefit.ExplanationOfBenefit,\n",
       " fhir.resources.R4B.immunization.Immunization,\n",
       " fhir.resources.R4B.medicationrequest.MedicationRequest,\n",
       " fhir.resources.R4B.observation.Observation,\n",
       " fhir.resources.R4B.patient.Patient,\n",
       " fhir.resources.R4B.procedure.Procedure,\n",
       " fhir.resources.R4B.provenance.Provenance}"
      ]
     },
     "execution_count": 136,
     "metadata": {},
     "output_type": "execute_result"
    }
   ],
   "source": [
    "def read_fihr_json(file_path):\n",
    "    pt_resources = []\n",
    "    pt_bundle = Bundle.parse_file(file_path)\n",
    "    for entry in pt_bundle.entry:\n",
    "        pt_resources.append(entry.resource)\n",
    "    return(pt_resources)\n",
    "\n",
    "example = 'output/fhir/Aaron697_Eichmann909_8f8b9664-6af2-a8f6-694e-1eed399ea223.json'\n",
    "ex_resources = read_fihr_json(example)\n",
    "set([type(x) for x in ex_resources])"
   ]
  },
  {
   "cell_type": "markdown",
   "metadata": {},
   "source": [
    "### Patient Information"
   ]
  },
  {
   "cell_type": "code",
   "execution_count": 159,
   "metadata": {},
   "outputs": [],
   "source": [
    "def get_patient_address_info(patient_obj):\n",
    "    pt_country, pt_state, pt_city, pt_lat, pt_lon = '', '', '', 0,0\n",
    "    for entry in patient_obj.address:\n",
    "        pt_country += entry.country\n",
    "        pt_state += entry.state\n",
    "        pt_city += entry.city\n",
    "        for ext in entry.extension:\n",
    "            for ext2 in ext.extension:\n",
    "                if ext2.url == 'latitude':\n",
    "                    pt_lat += float(ext2.valueDecimal)\n",
    "                if ext2.url == 'longitude':\n",
    "                    pt_lon += float(ext2.valueDecimal)\n",
    "    return pt_country, pt_state, pt_city, pt_lat, pt_lon\n",
    "\n",
    "def get_patient_demographic(patient_obj):\n",
    "    pt_birth_date = ex_patient.birthDate\n",
    "    pt_gender = ex_patient.gender\n",
    "    pt_gp = ex_patient.generalPractitioner\n",
    "    pt_id = ex_patient.id\n",
    "    pt_martial_status = ex_patient.maritalStatus.text\n",
    "    if len(ex_patient.name[0].given) == 2:\n",
    "        pt_first_name = ex_patient.name[0].given[0]\n",
    "        pt_middle_name = ex_patient.name[0].given[1]\n",
    "    else:\n",
    "        pt_first_name = ex_patient.name[0].given[0]\n",
    "        pt_middle_name = 'None'\n",
    "    pt_family_name = ex_patient.name[0].family\n",
    "    return pt_id, pt_first_name, pt_middle_name, pt_family_name, pt_gender, pt_birth_date, pt_martial_status, pt_gp\n",
    "\n",
    "def get_patient_age(patient_obj):\n",
    "    pt_bd = get_patient_demographic(patient_obj)[5]\n",
    "    today = datetime.date.today()\n",
    "    pt_age = int((today - pt_bd).days // 365.2425)\n",
    "    return(pt_age)\n",
    "\n",
    "def create_patient_entry(resource_obj):\n",
    "    patient_ind = [ind for ind, entry in enumerate(ex_resources) if entry.resource_type == 'Patient'][0]\n",
    "    patient_obj = resource_obj[patient_ind]\n",
    "    pt_id, pt_first_name, pt_middle_name, pt_family_name, pt_gender, pt_birth_date, pt_marital_status, pt_gp = get_patient_demographic(patient_obj)\n",
    "    pt_age = get_patient_age(patient_obj)\n",
    "    pt_country, pt_state, pt_city, pt_lat, pt_lon = get_patient_address_info(patient_obj)\n",
    "    pt_entry = {\n",
    "        'uuid':pt_id,\n",
    "        'first_name':pt_first_name,\n",
    "        'middle_name':pt_middle_name,\n",
    "        'family_name':pt_family_name,\n",
    "        'gender':pt_gender,\n",
    "        'birth_date': str(pt_birth_date),\n",
    "        'marital_status': pt_marital_status,\n",
    "        'general_practioner': pt_gp,\n",
    "        'age_years': pt_age,\n",
    "        'country': pt_country,\n",
    "        'state': pt_state,\n",
    "        'city': pt_city,\n",
    "        'location_lat': pt_lat,\n",
    "        'location_long': pt_lon\n",
    "    }\n",
    "    return pt_entry"
   ]
  },
  {
   "cell_type": "code",
   "execution_count": 160,
   "metadata": {},
   "outputs": [
    {
     "data": {
      "text/plain": [
       "{'uuid': '8f8b9664-6af2-a8f6-694e-1eed399ea223',\n",
       " 'first_name': 'Aaron697',\n",
       " 'middle_name': 'Don899',\n",
       " 'family_name': 'Eichmann909',\n",
       " 'gender': 'male',\n",
       " 'birth_date': '1956-04-06',\n",
       " 'marital_status': 'Never Married',\n",
       " 'general_practioner': None,\n",
       " 'age_years': 67,\n",
       " 'country': 'US',\n",
       " 'state': 'MA',\n",
       " 'city': 'East Longmeadow',\n",
       " 'location_lat': 42.05782803279011,\n",
       " 'location_long': -72.45628312557714}"
      ]
     },
     "execution_count": 160,
     "metadata": {},
     "output_type": "execute_result"
    }
   ],
   "source": [
    "create_patient_entry(ex_resources)"
   ]
  }
 ],
 "metadata": {
  "kernelspec": {
   "display_name": "Python 3",
   "language": "python",
   "name": "python3"
  },
  "language_info": {
   "codemirror_mode": {
    "name": "ipython",
    "version": 3
   },
   "file_extension": ".py",
   "mimetype": "text/x-python",
   "name": "python",
   "nbconvert_exporter": "python",
   "pygments_lexer": "ipython3",
   "version": "3.8.18"
  }
 },
 "nbformat": 4,
 "nbformat_minor": 2
}
